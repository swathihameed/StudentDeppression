{
 "cells": [
  {
   "cell_type": "markdown",
   "metadata": {},
   "source": [
    "## Import Required Libraries"
   ]
  },
  {
   "cell_type": "code",
   "execution_count": 1,
   "metadata": {},
   "outputs": [],
   "source": [
    "import pandas as pd\n",
    "import pickle as pickle    #used for serializing and de-serializing a Python object structure\n",
    "#import lightgbm\n",
    "from sklearn.model_selection import train_test_split\n",
    "from sklearn.preprocessing import  LabelEncoder\n",
    "from lightgbm import LGBMClassifier     # lightgbm is a gradient boosting framework that uses tree based learning algorithms.\n",
    "from sklearn.metrics import accuracy_score, f1_score"
   ]
  },
  {
   "cell_type": "markdown",
   "metadata": {},
   "source": [
    "## Load dataset with pandas"
   ]
  },
  {
   "cell_type": "code",
   "execution_count": 2,
   "metadata": {},
   "outputs": [],
   "source": [
    "dataset = pd.read_csv('E:\\ML\\PROJECTS\\DEPRESSION\\dataset_sd.csv')"
   ]
  },
  {
   "cell_type": "markdown",
   "metadata": {},
   "source": [
    "## View top-5 rows of dataset"
   ]
  },
  {
   "cell_type": "code",
   "execution_count": 17,
   "metadata": {},
   "outputs": [
    {
     "data": {
      "text/html": [
       "<div>\n",
       "<style scoped>\n",
       "    .dataframe tbody tr th:only-of-type {\n",
       "        vertical-align: middle;\n",
       "    }\n",
       "\n",
       "    .dataframe tbody tr th {\n",
       "        vertical-align: top;\n",
       "    }\n",
       "\n",
       "    .dataframe thead th {\n",
       "        text-align: right;\n",
       "    }\n",
       "</style>\n",
       "<table border=\"1\" class=\"dataframe\">\n",
       "  <thead>\n",
       "    <tr style=\"text-align: right;\">\n",
       "      <th></th>\n",
       "      <th>Branch</th>\n",
       "      <th>Year</th>\n",
       "      <th>College</th>\n",
       "      <th>Gender</th>\n",
       "      <th>Do you feel Depressed?</th>\n",
       "      <th>When do you get up in the morning?</th>\n",
       "      <th>What is your sleeping posture?</th>\n",
       "      <th>You start your day with?</th>\n",
       "      <th>How do you work out everyday?</th>\n",
       "      <th>How much time do you spend in exercising daily?</th>\n",
       "      <th>...</th>\n",
       "      <th>Have you often felt like crying for no reason?</th>\n",
       "      <th>How often does your grades and college work suffer because of the amount of time you spend online?</th>\n",
       "      <th>How do you feel after seeing post on success of people on social sites?</th>\n",
       "      <th>How often do you get angry at small things ?</th>\n",
       "      <th>Do you often feel restless and can't keep still ?</th>\n",
       "      <th>Do you feel happy?</th>\n",
       "      <th>Have you blamed yourself unnecessarily when things went wrong?</th>\n",
       "      <th>Do you prefer to stay at home,rather than going out and doing new things?</th>\n",
       "      <th>Are you satisfied with your life?</th>\n",
       "      <th>Do you think about suicide ?</th>\n",
       "    </tr>\n",
       "  </thead>\n",
       "  <tbody>\n",
       "    <tr>\n",
       "      <th>0</th>\n",
       "      <td>IT</td>\n",
       "      <td>2</td>\n",
       "      <td>BIT</td>\n",
       "      <td>Male</td>\n",
       "      <td>Several days</td>\n",
       "      <td>6 AM- 7AM</td>\n",
       "      <td>Facing right side</td>\n",
       "      <td>Taking tea</td>\n",
       "      <td>None</td>\n",
       "      <td>None</td>\n",
       "      <td>...</td>\n",
       "      <td>Not at all</td>\n",
       "      <td>A little of time</td>\n",
       "      <td>Neutral</td>\n",
       "      <td>Some of the time</td>\n",
       "      <td>Not at all</td>\n",
       "      <td>Most of the time</td>\n",
       "      <td>Some of the time</td>\n",
       "      <td>Some of the time</td>\n",
       "      <td>Some of the time</td>\n",
       "      <td>No</td>\n",
       "    </tr>\n",
       "    <tr>\n",
       "      <th>1</th>\n",
       "      <td>IT</td>\n",
       "      <td>2</td>\n",
       "      <td>BIT</td>\n",
       "      <td>Female</td>\n",
       "      <td>Several days</td>\n",
       "      <td>7AM-8AM</td>\n",
       "      <td>Facing right side</td>\n",
       "      <td>Drinking cold water</td>\n",
       "      <td>Gymnasium</td>\n",
       "      <td>&gt; half an hour</td>\n",
       "      <td>...</td>\n",
       "      <td>Some of the time</td>\n",
       "      <td>Most of the time</td>\n",
       "      <td>Happy and motivated</td>\n",
       "      <td>Some of the time</td>\n",
       "      <td>A little of time</td>\n",
       "      <td>Most of the time</td>\n",
       "      <td>Some of the time</td>\n",
       "      <td>A little of time</td>\n",
       "      <td>A little of time</td>\n",
       "      <td>No</td>\n",
       "    </tr>\n",
       "    <tr>\n",
       "      <th>2</th>\n",
       "      <td>IT</td>\n",
       "      <td>2</td>\n",
       "      <td>BIT</td>\n",
       "      <td>Male</td>\n",
       "      <td>Not at all</td>\n",
       "      <td>After 8AM</td>\n",
       "      <td>Facing left sie</td>\n",
       "      <td>Drinking cold water</td>\n",
       "      <td>football</td>\n",
       "      <td>&gt; half an hour</td>\n",
       "      <td>...</td>\n",
       "      <td>Some of the time</td>\n",
       "      <td>Some of the time</td>\n",
       "      <td>Happy and motivated</td>\n",
       "      <td>Most of the time</td>\n",
       "      <td>Not at all</td>\n",
       "      <td>Most of the time</td>\n",
       "      <td>Not at all</td>\n",
       "      <td>Most of the time</td>\n",
       "      <td>Most of the time</td>\n",
       "      <td>No</td>\n",
       "    </tr>\n",
       "    <tr>\n",
       "      <th>3</th>\n",
       "      <td>IT</td>\n",
       "      <td>2</td>\n",
       "      <td>BIT</td>\n",
       "      <td>Male</td>\n",
       "      <td>Several days</td>\n",
       "      <td>7AM-8AM</td>\n",
       "      <td>Back</td>\n",
       "      <td>Drinking cold water</td>\n",
       "      <td>Gymnasium</td>\n",
       "      <td>15 min</td>\n",
       "      <td>...</td>\n",
       "      <td>A little of time</td>\n",
       "      <td>A little of time</td>\n",
       "      <td>Neutral</td>\n",
       "      <td>Some of the time</td>\n",
       "      <td>A little of time</td>\n",
       "      <td>Most of the time</td>\n",
       "      <td>Some of the time</td>\n",
       "      <td>A little of time</td>\n",
       "      <td>Most of the time</td>\n",
       "      <td>No</td>\n",
       "    </tr>\n",
       "    <tr>\n",
       "      <th>4</th>\n",
       "      <td>IT</td>\n",
       "      <td>2</td>\n",
       "      <td>BIT</td>\n",
       "      <td>Male</td>\n",
       "      <td>Several days</td>\n",
       "      <td>6 AM- 7AM</td>\n",
       "      <td>Back</td>\n",
       "      <td>Drinking cold water</td>\n",
       "      <td>Gymnasium</td>\n",
       "      <td>&gt; half an hour</td>\n",
       "      <td>...</td>\n",
       "      <td>Not at all</td>\n",
       "      <td>Some of the time</td>\n",
       "      <td>Jealous</td>\n",
       "      <td>Some of the time</td>\n",
       "      <td>A little of time</td>\n",
       "      <td>Some of the time</td>\n",
       "      <td>Not very often</td>\n",
       "      <td>A little of time</td>\n",
       "      <td>Some of the time</td>\n",
       "      <td>No</td>\n",
       "    </tr>\n",
       "  </tbody>\n",
       "</table>\n",
       "<p>5 rows × 41 columns</p>\n",
       "</div>"
      ],
      "text/plain": [
       "  Branch  Year College  Gender Do you feel Depressed?  \\\n",
       "0     IT     2     BIT    Male           Several days   \n",
       "1     IT     2     BIT  Female           Several days   \n",
       "2     IT     2     BIT    Male             Not at all   \n",
       "3     IT     2     BIT    Male           Several days   \n",
       "4     IT     2     BIT    Male           Several days   \n",
       "\n",
       "  When do you get up in the morning? What is your sleeping posture?  \\\n",
       "0                          6 AM- 7AM              Facing right side   \n",
       "1                            7AM-8AM              Facing right side   \n",
       "2                          After 8AM                Facing left sie   \n",
       "3                            7AM-8AM                           Back   \n",
       "4                          6 AM- 7AM                           Back   \n",
       "\n",
       "  You start your day with? How do you work out everyday?  \\\n",
       "0               Taking tea                          None   \n",
       "1      Drinking cold water                     Gymnasium   \n",
       "2      Drinking cold water                      football   \n",
       "3      Drinking cold water                     Gymnasium   \n",
       "4      Drinking cold water                     Gymnasium   \n",
       "\n",
       "  How much time do you spend in exercising daily?  \\\n",
       "0                                            None   \n",
       "1                                  > half an hour   \n",
       "2                                  > half an hour   \n",
       "3                                          15 min   \n",
       "4                                  > half an hour   \n",
       "\n",
       "              ...              Have you often felt like crying for no reason?  \\\n",
       "0             ...                                                  Not at all   \n",
       "1             ...                                            Some of the time   \n",
       "2             ...                                            Some of the time   \n",
       "3             ...                                            A little of time   \n",
       "4             ...                                                  Not at all   \n",
       "\n",
       "  How often does your grades and college work suffer because of the amount of time you spend online?  \\\n",
       "0                                   A little of time                                                   \n",
       "1                                   Most of the time                                                   \n",
       "2                                   Some of the time                                                   \n",
       "3                                   A little of time                                                   \n",
       "4                                   Some of the time                                                   \n",
       "\n",
       "  How do you feel after seeing post on success of people on social sites?  \\\n",
       "0                                            Neutral                        \n",
       "1                                Happy and motivated                        \n",
       "2                                Happy and motivated                        \n",
       "3                                            Neutral                        \n",
       "4                                            Jealous                        \n",
       "\n",
       "  How often do you get angry at small things ?  \\\n",
       "0                             Some of the time   \n",
       "1                             Some of the time   \n",
       "2                             Most of the time   \n",
       "3                             Some of the time   \n",
       "4                             Some of the time   \n",
       "\n",
       "  Do you often feel restless and can't keep still ? Do you feel happy?  \\\n",
       "0                                        Not at all   Most of the time   \n",
       "1                                  A little of time   Most of the time   \n",
       "2                                        Not at all   Most of the time   \n",
       "3                                  A little of time   Most of the time   \n",
       "4                                  A little of time   Some of the time   \n",
       "\n",
       "  Have you blamed yourself unnecessarily when things went wrong?  \\\n",
       "0                                   Some of the time               \n",
       "1                                   Some of the time               \n",
       "2                                         Not at all               \n",
       "3                                   Some of the time               \n",
       "4                                     Not very often               \n",
       "\n",
       "  Do you prefer to stay at home,rather than going out and doing new things?  \\\n",
       "0                                   Some of the time                          \n",
       "1                                   A little of time                          \n",
       "2                                   Most of the time                          \n",
       "3                                   A little of time                          \n",
       "4                                   A little of time                          \n",
       "\n",
       "  Are you satisfied with your life? Do you think about suicide ?  \n",
       "0                  Some of the time                           No  \n",
       "1                  A little of time                           No  \n",
       "2                  Most of the time                           No  \n",
       "3                  Most of the time                           No  \n",
       "4                  Some of the time                           No  \n",
       "\n",
       "[5 rows x 41 columns]"
      ]
     },
     "execution_count": 17,
     "metadata": {},
     "output_type": "execute_result"
    }
   ],
   "source": [
    "dataset.head(5)"
   ]
  },
  {
   "cell_type": "code",
   "execution_count": null,
   "metadata": {
    "collapsed": true
   },
   "outputs": [],
   "source": []
  },
  {
   "cell_type": "markdown",
   "metadata": {},
   "source": [
    "## Get List of all columns"
   ]
  },
  {
   "cell_type": "code",
   "execution_count": 3,
   "metadata": {},
   "outputs": [
    {
     "name": "stdout",
     "output_type": "stream",
     "text": [
      "Columns of dataset \n",
      " Index(['Branch', 'Year', 'College', 'Gender', 'Do you feel Depressed?',\n",
      "       'When do you get up in the morning?', 'What is your sleeping posture?',\n",
      "       'You start your day with?', 'How do you work out everyday?',\n",
      "       'How much time do you spend in exercising daily?',\n",
      "       'What is first diet you have after waking up?',\n",
      "       'Do you take afternoon nap?', 'How do you feel after afternoon nap?',\n",
      "       'What is average usage duration of electronic gadgets by you?',\n",
      "       'What is your sleeping pattern?',\n",
      "       'Do you have trouble in falling asleep?',\n",
      "       'Do you feel that you are useful and needed?',\n",
      "       'Moving or speaking so slowly that other people could have noticed',\n",
      "       'Poor Appetite or overeating',\n",
      "       'Do you have gradual loss or gain in weight?',\n",
      "       'Do you feel more irritable than usual?',\n",
      "       'Do you get tired for no reason?',\n",
      "       'Do you have any of the following general health conditions?',\n",
      "       'Have you had nausea?', 'Do you feel that life isn't worth living?',\n",
      "       'Things have been getting on top of me',\n",
      "       'Do you frequently smoke or drink?',\n",
      "       'Do you often suffer from constipation?', 'Relationship status',\n",
      "       'Do you worry about the past?', 'Do you feel Nostalgic?',\n",
      "       'Have you often felt like crying for no reason?',\n",
      "       'How often does your grades and college work suffer because of the amount of time you spend online?',\n",
      "       'How do you feel after seeing post on success of people on social sites?',\n",
      "       'How often do you get angry at small things ?',\n",
      "       'Do you often feel restless and can't keep still ?',\n",
      "       'Do you feel happy?',\n",
      "       'Have you blamed yourself unnecessarily when things went wrong?',\n",
      "       'Do you prefer to stay at home,rather than going out and doing new things?',\n",
      "       'Are you satisfied with your life?', 'Do you think about suicide ?'],\n",
      "      dtype='object')\n"
     ]
    }
   ],
   "source": [
    "print('Columns of dataset \\n',dataset.columns)"
   ]
  },
  {
   "cell_type": "markdown",
   "metadata": {},
   "source": [
    "## Get Unique value counts of each column in dataset"
   ]
  },
  {
   "cell_type": "code",
   "execution_count": 4,
   "metadata": {},
   "outputs": [
    {
     "name": "stdout",
     "output_type": "stream",
     "text": [
      "column Unique_column_count\n",
      "8 Branch\n",
      "4 Year\n",
      "2 College\n",
      "2 Gender\n",
      "4 Do you feel Depressed?\n",
      "4 When do you get up in the morning?\n",
      "5 What is your sleeping posture?\n",
      "109 You start your day with?\n",
      "79 How do you work out everyday?\n",
      "4 How much time do you spend in exercising daily?\n",
      "161 What is first diet you have after waking up?\n",
      "2 Do you take afternoon nap?\n",
      "56 How do you feel after afternoon nap?\n",
      "4 What is average usage duration of electronic gadgets by you?\n",
      "4 What is your sleeping pattern?\n",
      "7 Do you have trouble in falling asleep?\n",
      "4 Do you feel that you are useful and needed?\n",
      "4 Moving or speaking so slowly that other people could have noticed\n",
      "4 Poor Appetite or overeating\n",
      "3 Do you have gradual loss or gain in weight?\n",
      "4 Do you feel more irritable than usual?\n",
      "4 Do you get tired for no reason?\n",
      "63 Do you have any of the following general health conditions?\n",
      "8 Have you had nausea?\n",
      "4 Do you feel that life isn't worth living?\n",
      "4 Things have been getting on top of me\n",
      "4 Do you frequently smoke or drink?\n",
      "4 Do you often suffer from constipation?\n",
      "3 Relationship status\n",
      "4 Do you worry about the past?\n",
      "4 Do you feel Nostalgic?\n",
      "4 Have you often felt like crying for no reason?\n",
      "4 How often does your grades and college work suffer because of the amount of time you spend online?\n",
      "4 How do you feel after seeing post on success of people on social sites?\n",
      "4 How often do you get angry at small things ?\n",
      "4 Do you often feel restless and can't keep still ?\n",
      "4 Do you feel happy?\n",
      "5 Have you blamed yourself unnecessarily when things went wrong?\n",
      "5 Do you prefer to stay at home,rather than going out and doing new things?\n",
      "4 Are you satisfied with your life?\n",
      "3 Do you think about suicide ?\n"
     ]
    }
   ],
   "source": [
    "print('column Unique_column_count')\n",
    "for col in dataset:\n",
    "    print(len(dataset[col].unique()), col)"
   ]
  },
  {
   "cell_type": "code",
   "execution_count": null,
   "metadata": {
    "collapsed": true
   },
   "outputs": [],
   "source": []
  },
  {
   "cell_type": "markdown",
   "metadata": {},
   "source": [
    "## Remove columns with too many unique values (to avoid overfitting)"
   ]
  },
  {
   "cell_type": "code",
   "execution_count": 5,
   "metadata": {},
   "outputs": [],
   "source": [
    "dropping_cols = ['What is first diet you have after waking up?','How do you work out everyday?','You start your day with?','How do you feel after afternoon nap?', 'Do you have any of the following general health conditions?']\n",
    "dataset.drop(dropping_cols, axis=1, inplace=True)"
   ]
  },
  {
   "cell_type": "code",
   "execution_count": null,
   "metadata": {
    "collapsed": true
   },
   "outputs": [],
   "source": []
  },
  {
   "cell_type": "markdown",
   "metadata": {},
   "source": [
    "## Unique Values of Dataset columns after removing irrelevant columns"
   ]
  },
  {
   "cell_type": "code",
   "execution_count": 6,
   "metadata": {},
   "outputs": [
    {
     "name": "stdout",
     "output_type": "stream",
     "text": [
      "column Unique_column_values\n",
      "['IT' 'CSE' 'Mech' 'ETC' 'Civil' 'EE' 'EEE' 'Others'] Branch\n",
      "[2 1 3 4] Year\n",
      "['BIT' 'Others'] College\n",
      "['Male' 'Female'] Gender\n",
      "['Several days' 'Not at all' 'Nearly every day'\n",
      " 'More than half of  the days'] Do you feel Depressed?\n",
      "['6 AM- 7AM' '7AM-8AM' 'After 8AM' 'Before 6 am'] When do you get up in the morning?\n",
      "['Facing right side' 'Facing left sie' 'Back' 'Straight'\n",
      " 'Facing left side'] What is your sleeping posture?\n",
      "['None' '> half an hour' '15 min' 'half an hour'] How much time do you spend in exercising daily?\n",
      "['No' 'Yes'] Do you take afternoon nap?\n",
      "['2-3hours' '> 3hours' '1-2hours' '1 hour'] What is average usage duration of electronic gadgets by you?\n",
      "['Sound sleep' 'Broken sleep' 'Insomania' 'Sleep with scary or bad dreams'] What is your sleeping pattern?\n",
      "['Not at all' 'Every day' 'Few days' 'HALF OF A WEEK' 'Situation depends'\n",
      " 'Very few days' 'Sometimes when i am too tired '] Do you have trouble in falling asleep?\n",
      "['Some of the time' 'Most of time' 'Good part of time'\n",
      " 'A little of the time'] Do you feel that you are useful and needed?\n",
      "['Some of the time' 'A little of the time' 'Good part of time'\n",
      " 'Most of time'] Moving or speaking so slowly that other people could have noticed\n",
      "['Not at all' 'Several days' 'More than half of days' 'Nearly everyday'] Poor Appetite or overeating\n",
      "['No' 'Slight' 'severe or obvious'] Do you have gradual loss or gain in weight?\n",
      "['Some of the time' 'A little of the time' 'Good part of time'\n",
      " 'Most of time'] Do you feel more irritable than usual?\n",
      "['A little of the time' 'Some of the time' 'Most of the time'\n",
      " 'Good part of the time'] Do you get tired for no reason?\n",
      "['Sometimes' 'Never' 'Always' 'only sickness' 'Mostly' 'Not sure'\n",
      " 'during migrane attacks' 'Like once in a month'] Have you had nausea?\n",
      "['Not at all' 'Most of the time' 'Some of the time' 'A little of time'] Do you feel that life isn't worth living?\n",
      "['Yes,most of time i have not been able to cope at all'\n",
      " 'No,most of time i have coped quite well'\n",
      " 'No,i have been coping as well as ever'\n",
      " 'Yes, somtimes i have not been coping as well as usual'] Things have been getting on top of me\n",
      "['Not at all' 'A little of time' 'Most of the time' 'Some of the time'] Do you frequently smoke or drink?\n",
      "['Not at all' 'A little of time' 'Some of the time' 'Most of the time'] Do you often suffer from constipation?\n",
      "['Single' \"It's complicated\" 'In relationship'] Relationship status\n",
      "['Most of the time' 'Some of the time' 'A Little of the time' 'Not at all'] Do you worry about the past?\n",
      "['Most of the time' 'Some of the time' 'A Little of the time' 'Not at all'] Do you feel Nostalgic?\n",
      "['Not at all' 'Some of the time' 'A little of time' 'Most of the time'] Have you often felt like crying for no reason?\n",
      "['A little of time' 'Most of the time' 'Some of the time' 'Not at all'] How often does your grades and college work suffer because of the amount of time you spend online?\n",
      "['Neutral' 'Happy and motivated' 'Jealous' 'Sad'] How do you feel after seeing post on success of people on social sites?\n",
      "['Some of the time' 'Most of the time' 'A little of time' 'Not at all'] How often do you get angry at small things ?\n",
      "['Not at all' 'A little of time' 'Most of the time' 'Some of the time'] Do you often feel restless and can't keep still ?\n",
      "['Most of the time' 'Some of the time' 'Not at all' 'A little of time'] Do you feel happy?\n",
      "['Some of the time' 'Not at all' 'Not very often' '0' 'Most of the time'] Have you blamed yourself unnecessarily when things went wrong?\n",
      "['Some of the time' 'A little of time' 'Most of the time' 'Not at all' '0'] Do you prefer to stay at home,rather than going out and doing new things?\n",
      "['Some of the time' 'A little of time' 'Most of the time' 'Not at all'] Are you satisfied with your life?\n",
      "['No' 'Yes, Attempted' 'Suicidal ideas and gestures but no attempt'] Do you think about suicide ?\n"
     ]
    }
   ],
   "source": [
    "print('column Unique_column_values')\n",
    "for col in dataset:\n",
    "    print( dataset[col].unique(), col)"
   ]
  },
  {
   "cell_type": "code",
   "execution_count": null,
   "metadata": {
    "collapsed": true
   },
   "outputs": [],
   "source": []
  },
  {
   "cell_type": "markdown",
   "metadata": {},
   "source": [
    "## Split dataset into features & target dataset"
   ]
  },
  {
   "cell_type": "code",
   "execution_count": 7,
   "metadata": {},
   "outputs": [],
   "source": [
    "dataset_features = dataset.drop(['Do you think about suicide ?'], axis=1)\n",
    "dataset_target = pd.DataFrame(dataset['Do you think about suicide ?'])"
   ]
  },
  {
   "cell_type": "code",
   "execution_count": null,
   "metadata": {},
   "outputs": [],
   "source": []
  },
  {
   "cell_type": "markdown",
   "metadata": {},
   "source": [
    "## Encode Features into incremental numeric values"
   ]
  },
  {
   "cell_type": "code",
   "execution_count": 8,
   "metadata": {},
   "outputs": [],
   "source": [
    "le = LabelEncoder()"
   ]
  },
  {
   "cell_type": "code",
   "execution_count": 9,
   "metadata": {},
   "outputs": [],
   "source": [
    "for col in dataset_features:\n",
    "    dataset_features[col] = le.fit_transform(dataset_features[col])"
   ]
  },
  {
   "cell_type": "code",
   "execution_count": null,
   "metadata": {
    "collapsed": true
   },
   "outputs": [],
   "source": []
  },
  {
   "cell_type": "markdown",
   "metadata": {},
   "source": [
    "## Split dataset into train-set & test-set (75% trainset, 25% test-set)"
   ]
  },
  {
   "cell_type": "code",
   "execution_count": 28,
   "metadata": {},
   "outputs": [],
   "source": [
    "x_train, x_test, y_train, y_test = train_test_split(dataset_features, dataset_target, test_size=0.25, random_state=42)"
   ]
  },
  {
   "cell_type": "code",
   "execution_count": 31,
   "metadata": {},
   "outputs": [
    {
     "name": "stdout",
     "output_type": "stream",
     "text": [
      "Train-set shape (594, 35) (594, 1)\n",
      "Test-set shape (198, 35) (198, 1)\n"
     ]
    }
   ],
   "source": [
    "print ('Train-set shape',x_train.shape, y_train.shape)\n",
    "print ('Test-set shape', x_test.shape, y_test.shape)"
   ]
  },
  {
   "cell_type": "code",
   "execution_count": null,
   "metadata": {
    "collapsed": true
   },
   "outputs": [],
   "source": []
  },
  {
   "cell_type": "markdown",
   "metadata": {},
   "source": [
    "## Generate the prediction model with train-set"
   ]
  },
  {
   "cell_type": "code",
   "execution_count": 32,
   "metadata": {},
   "outputs": [],
   "source": [
    "model = LGBMClassifier(n_estimators=20)"
   ]
  },
  {
   "cell_type": "code",
   "execution_count": 33,
   "metadata": {},
   "outputs": [
    {
     "name": "stderr",
     "output_type": "stream",
     "text": [
      "C:\\ProgramData\\Anaconda3\\lib\\site-packages\\sklearn\\preprocessing\\label.py:95: DataConversionWarning: A column-vector y was passed when a 1d array was expected. Please change the shape of y to (n_samples, ), for example using ravel().\n",
      "  y = column_or_1d(y, warn=True)\n",
      "C:\\ProgramData\\Anaconda3\\lib\\site-packages\\sklearn\\preprocessing\\label.py:128: DataConversionWarning: A column-vector y was passed when a 1d array was expected. Please change the shape of y to (n_samples, ), for example using ravel().\n",
      "  y = column_or_1d(y, warn=True)\n"
     ]
    }
   ],
   "source": [
    "model_fit = model.fit(x_train, y_train)"
   ]
  },
  {
   "cell_type": "code",
   "execution_count": null,
   "metadata": {
    "collapsed": true
   },
   "outputs": [],
   "source": []
  },
  {
   "cell_type": "markdown",
   "metadata": {},
   "source": [
    "## Save the model"
   ]
  },
  {
   "cell_type": "code",
   "execution_count": 34,
   "metadata": {},
   "outputs": [],
   "source": [
    "model_file = 'sd_model.pkl'"
   ]
  },
  {
   "cell_type": "code",
   "execution_count": 35,
   "metadata": {},
   "outputs": [],
   "source": [
    "with open(model_file, 'wb') as fp:\n",
    "     pickle.dump(model_fit, fp)"
   ]
  },
  {
   "cell_type": "code",
   "execution_count": null,
   "metadata": {
    "collapsed": true
   },
   "outputs": [],
   "source": []
  },
  {
   "cell_type": "markdown",
   "metadata": {},
   "source": [
    "## Load the Model"
   ]
  },
  {
   "cell_type": "code",
   "execution_count": 36,
   "metadata": {},
   "outputs": [],
   "source": [
    "model_file = 'sd_model.pkl'"
   ]
  },
  {
   "cell_type": "code",
   "execution_count": 37,
   "metadata": {},
   "outputs": [],
   "source": [
    "with open(model_file, 'rb') as fp:\n",
    "     model_fit = pickle.load(fp)"
   ]
  },
  {
   "cell_type": "code",
   "execution_count": null,
   "metadata": {
    "collapsed": true
   },
   "outputs": [],
   "source": []
  },
  {
   "cell_type": "markdown",
   "metadata": {},
   "source": [
    "## Prediction on test-set"
   ]
  },
  {
   "cell_type": "code",
   "execution_count": 39,
   "metadata": {},
   "outputs": [
    {
     "name": "stdout",
     "output_type": "stream",
     "text": [
      "['No' 'No' 'No' 'No' 'No' 'No' 'No' 'No' 'No'\n",
      " 'Suicidal ideas and gestures but no attempt' 'No' 'No' 'No' 'No' 'No'\n",
      " 'Suicidal ideas and gestures but no attempt' 'No' 'No' 'No' 'No' 'No'\n",
      " 'No' 'No' 'No' 'No' 'No' 'No' 'No' 'No' 'No' 'No' 'No' 'No' 'No' 'No'\n",
      " 'No' 'No' 'No' 'No' 'No' 'No' 'No' 'No' 'No' 'No' 'No' 'No' 'No' 'No'\n",
      " 'No' 'No' 'No' 'No' 'No' 'No' 'No' 'No' 'No' 'No' 'No' 'No' 'No' 'No'\n",
      " 'No' 'No' 'No' 'No' 'No' 'No' 'No' 'No' 'No' 'No' 'No' 'No' 'No' 'No'\n",
      " 'No' 'No' 'No' 'No' 'No' 'No' 'No' 'No' 'No' 'No' 'No' 'No' 'No' 'No'\n",
      " 'No' 'No' 'No' 'No' 'No' 'No' 'No' 'No' 'No' 'No'\n",
      " 'Suicidal ideas and gestures but no attempt' 'No' 'No' 'No' 'No' 'No'\n",
      " 'No' 'No' 'No' 'No' 'No' 'No' 'No' 'No' 'No' 'No' 'No' 'No' 'No' 'No'\n",
      " 'No' 'No' 'No' 'No' 'No' 'No' 'No' 'No' 'No' 'No' 'No' 'No' 'No' 'No'\n",
      " 'No' 'No' 'No' 'No' 'Suicidal ideas and gestures but no attempt' 'No'\n",
      " 'No' 'No' 'No' 'No' 'No' 'No' 'No' 'No' 'No' 'No' 'No' 'No' 'No' 'No'\n",
      " 'No' 'Yes, Attempted' 'No' 'No' 'No' 'No' 'No' 'No' 'No' 'No' 'No' 'No'\n",
      " 'No' 'No' 'No' 'No' 'No' 'No' 'No' 'No' 'No' 'No' 'No' 'No' 'No' 'No'\n",
      " 'Suicidal ideas and gestures but no attempt' 'No' 'No' 'No' 'No' 'No'\n",
      " 'No' 'No' 'No' 'No' 'No' 'No' 'No' 'No' 'No' 'No' 'No']\n"
     ]
    },
    {
     "name": "stderr",
     "output_type": "stream",
     "text": [
      "C:\\ProgramData\\Anaconda3\\lib\\site-packages\\sklearn\\preprocessing\\label.py:151: DeprecationWarning: The truth value of an empty array is ambiguous. Returning False, but in future this will result in an error. Use `array.size > 0` to check that an array is not empty.\n",
      "  if diff:\n"
     ]
    }
   ],
   "source": [
    "y_predict = model_fit.predict(x_test)\n",
    "print (y_predict)"
   ]
  },
  {
   "cell_type": "code",
   "execution_count": null,
   "metadata": {
    "collapsed": true
   },
   "outputs": [],
   "source": []
  },
  {
   "cell_type": "markdown",
   "metadata": {},
   "source": [
    "## Prediction Metrics"
   ]
  },
  {
   "cell_type": "code",
   "execution_count": 41,
   "metadata": {},
   "outputs": [
    {
     "name": "stdout",
     "output_type": "stream",
     "text": [
      "Accuracy: 0.8484848484848485\n",
      "F1-score: 0.4790114835505898\n"
     ]
    }
   ],
   "source": [
    "print ('Accuracy:', accuracy_score(y_test, y_predict))\n",
    "print ('F1-score:', f1_score(y_test, y_predict, average='macro'))"
   ]
  },
  {
   "cell_type": "code",
   "execution_count": null,
   "metadata": {
    "collapsed": true
   },
   "outputs": [],
   "source": []
  },
  {
   "cell_type": "code",
   "execution_count": null,
   "metadata": {
    "collapsed": true
   },
   "outputs": [],
   "source": []
  }
 ],
 "metadata": {
  "kernelspec": {
   "display_name": "Python 3",
   "language": "python",
   "name": "python3"
  },
  "language_info": {
   "codemirror_mode": {
    "name": "ipython",
    "version": 3
   },
   "file_extension": ".py",
   "mimetype": "text/x-python",
   "name": "python",
   "nbconvert_exporter": "python",
   "pygments_lexer": "ipython3",
   "version": "3.6.5"
  }
 },
 "nbformat": 4,
 "nbformat_minor": 2
}
